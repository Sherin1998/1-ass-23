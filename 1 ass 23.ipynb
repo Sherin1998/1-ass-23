{
 "cells": [
  {
   "cell_type": "markdown",
   "metadata": {},
   "source": [
    "#1\n",
    "result : 1,2,8\n",
    "The function assigns a=1,b=6 is replaced by 2 given by function call, c takes 8 and prints a,b,c\n",
    "\n"
   ]
  },
  {
   "cell_type": "markdown",
   "metadata": {},
   "source": [
    "#2\n",
    "result : 1,2,3\n",
    "The function assigns a=1,b=2,c=3 and does not depend on order of assigning as long as the variable name is specified"
   ]
  },
  {
   "cell_type": "markdown",
   "metadata": {},
   "source": [
    "#3\n",
    "res : 1,(2,3)\n",
    "The function has variable a and argument args which accepts muliple values.The 1st varibale is assigned to a and rest is passed to keyword argument and prints as a tuple.\n"
   ]
  },
  {
   "cell_type": "markdown",
   "metadata": {},
   "source": [
    "#4\n",
    "result : 1 {'c': 3, 'b': 2}\n",
    "The function has a variable a and keyword argument which returns a dictionary.The call statement to kargs should be key value pairs.The value 1 is assigned to a and b and c are assigned to keyword argument which returns a dictionary"
   ]
  },
  {
   "cell_type": "markdown",
   "metadata": {},
   "source": [
    "#5\n",
    "\n",
    "result : 1 5 6 5\n",
    "The function assigns 1 to a,Tuple passed in argument form is assinged to  b and c.d is assigned with default value.\n"
   ]
  },
  {
   "cell_type": "markdown",
   "metadata": {},
   "source": [
    "#6\n",
    "\n",
    "result : 1 ['x'] {'a': 'y'}\n",
    "    \n",
    "The function assigns l=1,m as list,n as dictionary.In the function l becomes 2.Since the scope of the variable is defined only inside function,l=1.\n",
    "b is a list and c a dictionary its value is assigned as 'y'"
   ]
  }
 ],
 "metadata": {
  "kernelspec": {
   "display_name": "Python 3",
   "language": "python",
   "name": "python3"
  },
  "language_info": {
   "codemirror_mode": {
    "name": "ipython",
    "version": 3
   },
   "file_extension": ".py",
   "mimetype": "text/x-python",
   "name": "python",
   "nbconvert_exporter": "python",
   "pygments_lexer": "ipython3",
   "version": "3.8.3"
  }
 },
 "nbformat": 4,
 "nbformat_minor": 4
}
